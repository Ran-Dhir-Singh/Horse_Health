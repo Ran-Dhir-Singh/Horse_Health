{
 "cells": [
  {
   "cell_type": "code",
   "execution_count": 9,
   "id": "654c2307-8711-4a1c-a61b-08cfa0fb617d",
   "metadata": {},
   "outputs": [],
   "source": [
    "import pandas as pd\n",
    "import numpy as np\n",
    "import seaborn as sns\n",
    "import matplotlib.pyplot as plt\n",
    "\n",
    "from sklearn.model_selection import train_test_split\n",
    "import warnings\n",
    "warnings.filterwarnings('ignore')\n",
    "\n",
    "%matplotlib inline"
   ]
  },
  {
   "cell_type": "code",
   "execution_count": 2,
   "id": "7cc09ddf-1c5b-41e9-abd3-46c162a0433e",
   "metadata": {},
   "outputs": [
    {
     "data": {
      "text/html": [
       "<div>\n",
       "<style scoped>\n",
       "    .dataframe tbody tr th:only-of-type {\n",
       "        vertical-align: middle;\n",
       "    }\n",
       "\n",
       "    .dataframe tbody tr th {\n",
       "        vertical-align: top;\n",
       "    }\n",
       "\n",
       "    .dataframe thead th {\n",
       "        text-align: right;\n",
       "    }\n",
       "</style>\n",
       "<table border=\"1\" class=\"dataframe\">\n",
       "  <thead>\n",
       "    <tr style=\"text-align: right;\">\n",
       "      <th></th>\n",
       "      <th>id</th>\n",
       "      <th>surgery</th>\n",
       "      <th>age</th>\n",
       "      <th>hospital_number</th>\n",
       "      <th>rectal_temp</th>\n",
       "      <th>pulse</th>\n",
       "      <th>respiratory_rate</th>\n",
       "      <th>temp_of_extremities</th>\n",
       "      <th>peripheral_pulse</th>\n",
       "      <th>mucous_membrane</th>\n",
       "      <th>...</th>\n",
       "      <th>packed_cell_volume</th>\n",
       "      <th>total_protein</th>\n",
       "      <th>abdomo_appearance</th>\n",
       "      <th>abdomo_protein</th>\n",
       "      <th>surgical_lesion</th>\n",
       "      <th>lesion_1</th>\n",
       "      <th>lesion_2</th>\n",
       "      <th>lesion_3</th>\n",
       "      <th>cp_data</th>\n",
       "      <th>outcome</th>\n",
       "    </tr>\n",
       "  </thead>\n",
       "  <tbody>\n",
       "    <tr>\n",
       "      <th>851</th>\n",
       "      <td>851</td>\n",
       "      <td>no</td>\n",
       "      <td>adult</td>\n",
       "      <td>529388</td>\n",
       "      <td>38.0</td>\n",
       "      <td>92.0</td>\n",
       "      <td>28.0</td>\n",
       "      <td>cool</td>\n",
       "      <td>reduced</td>\n",
       "      <td>pale_pink</td>\n",
       "      <td>...</td>\n",
       "      <td>57.0</td>\n",
       "      <td>8.1</td>\n",
       "      <td>serosanguious</td>\n",
       "      <td>5.2</td>\n",
       "      <td>no</td>\n",
       "      <td>5400</td>\n",
       "      <td>0</td>\n",
       "      <td>0</td>\n",
       "      <td>yes</td>\n",
       "      <td>died</td>\n",
       "    </tr>\n",
       "    <tr>\n",
       "      <th>306</th>\n",
       "      <td>306</td>\n",
       "      <td>yes</td>\n",
       "      <td>adult</td>\n",
       "      <td>533871</td>\n",
       "      <td>37.5</td>\n",
       "      <td>88.0</td>\n",
       "      <td>20.0</td>\n",
       "      <td>cool</td>\n",
       "      <td>reduced</td>\n",
       "      <td>pale_cyanotic</td>\n",
       "      <td>...</td>\n",
       "      <td>35.0</td>\n",
       "      <td>65.0</td>\n",
       "      <td>serosanguious</td>\n",
       "      <td>2.0</td>\n",
       "      <td>yes</td>\n",
       "      <td>2208</td>\n",
       "      <td>0</td>\n",
       "      <td>0</td>\n",
       "      <td>no</td>\n",
       "      <td>euthanized</td>\n",
       "    </tr>\n",
       "    <tr>\n",
       "      <th>961</th>\n",
       "      <td>961</td>\n",
       "      <td>no</td>\n",
       "      <td>adult</td>\n",
       "      <td>529663</td>\n",
       "      <td>38.0</td>\n",
       "      <td>48.0</td>\n",
       "      <td>16.0</td>\n",
       "      <td>normal</td>\n",
       "      <td>normal</td>\n",
       "      <td>normal_pink</td>\n",
       "      <td>...</td>\n",
       "      <td>49.0</td>\n",
       "      <td>6.0</td>\n",
       "      <td>cloudy</td>\n",
       "      <td>3.9</td>\n",
       "      <td>no</td>\n",
       "      <td>5000</td>\n",
       "      <td>0</td>\n",
       "      <td>0</td>\n",
       "      <td>yes</td>\n",
       "      <td>lived</td>\n",
       "    </tr>\n",
       "    <tr>\n",
       "      <th>595</th>\n",
       "      <td>595</td>\n",
       "      <td>no</td>\n",
       "      <td>adult</td>\n",
       "      <td>529373</td>\n",
       "      <td>37.8</td>\n",
       "      <td>88.0</td>\n",
       "      <td>16.0</td>\n",
       "      <td>normal</td>\n",
       "      <td>normal</td>\n",
       "      <td>pale_pink</td>\n",
       "      <td>...</td>\n",
       "      <td>55.0</td>\n",
       "      <td>6.0</td>\n",
       "      <td>cloudy</td>\n",
       "      <td>1.0</td>\n",
       "      <td>yes</td>\n",
       "      <td>3205</td>\n",
       "      <td>0</td>\n",
       "      <td>0</td>\n",
       "      <td>no</td>\n",
       "      <td>euthanized</td>\n",
       "    </tr>\n",
       "    <tr>\n",
       "      <th>1074</th>\n",
       "      <td>1074</td>\n",
       "      <td>no</td>\n",
       "      <td>adult</td>\n",
       "      <td>530670</td>\n",
       "      <td>36.6</td>\n",
       "      <td>96.0</td>\n",
       "      <td>28.0</td>\n",
       "      <td>cool</td>\n",
       "      <td>reduced</td>\n",
       "      <td>bright_red</td>\n",
       "      <td>...</td>\n",
       "      <td>33.0</td>\n",
       "      <td>6.6</td>\n",
       "      <td>serosanguious</td>\n",
       "      <td>6.6</td>\n",
       "      <td>yes</td>\n",
       "      <td>1400</td>\n",
       "      <td>0</td>\n",
       "      <td>0</td>\n",
       "      <td>yes</td>\n",
       "      <td>died</td>\n",
       "    </tr>\n",
       "  </tbody>\n",
       "</table>\n",
       "<p>5 rows × 29 columns</p>\n",
       "</div>"
      ],
      "text/plain": [
       "        id surgery    age  hospital_number  rectal_temp  pulse  \\\n",
       "851    851      no  adult           529388         38.0   92.0   \n",
       "306    306     yes  adult           533871         37.5   88.0   \n",
       "961    961      no  adult           529663         38.0   48.0   \n",
       "595    595      no  adult           529373         37.8   88.0   \n",
       "1074  1074      no  adult           530670         36.6   96.0   \n",
       "\n",
       "      respiratory_rate temp_of_extremities peripheral_pulse mucous_membrane  \\\n",
       "851               28.0                cool          reduced       pale_pink   \n",
       "306               20.0                cool          reduced   pale_cyanotic   \n",
       "961               16.0              normal           normal     normal_pink   \n",
       "595               16.0              normal           normal       pale_pink   \n",
       "1074              28.0                cool          reduced      bright_red   \n",
       "\n",
       "      ... packed_cell_volume total_protein abdomo_appearance abdomo_protein  \\\n",
       "851   ...               57.0           8.1     serosanguious            5.2   \n",
       "306   ...               35.0          65.0     serosanguious            2.0   \n",
       "961   ...               49.0           6.0            cloudy            3.9   \n",
       "595   ...               55.0           6.0            cloudy            1.0   \n",
       "1074  ...               33.0           6.6     serosanguious            6.6   \n",
       "\n",
       "     surgical_lesion lesion_1  lesion_2 lesion_3 cp_data     outcome  \n",
       "851               no     5400         0        0     yes        died  \n",
       "306              yes     2208         0        0      no  euthanized  \n",
       "961               no     5000         0        0     yes       lived  \n",
       "595              yes     3205         0        0      no  euthanized  \n",
       "1074             yes     1400         0        0     yes        died  \n",
       "\n",
       "[5 rows x 29 columns]"
      ]
     },
     "execution_count": 2,
     "metadata": {},
     "output_type": "execute_result"
    }
   ],
   "source": [
    "df = pd.read_csv(\"data/train.csv\")\n",
    "df.sample(5)"
   ]
  },
  {
   "cell_type": "code",
   "execution_count": 3,
   "id": "cb28377b-f5db-4738-b3e2-12096826a26c",
   "metadata": {},
   "outputs": [
    {
     "data": {
      "text/plain": [
       "array(['died', 'euthanized', 'lived'], dtype=object)"
      ]
     },
     "execution_count": 3,
     "metadata": {},
     "output_type": "execute_result"
    }
   ],
   "source": [
    "df['outcome'].unique()"
   ]
  },
  {
   "cell_type": "code",
   "execution_count": 4,
   "id": "46de08af-9736-411d-b100-4588a36ef4ca",
   "metadata": {},
   "outputs": [
    {
     "data": {
      "text/plain": [
       "outcome\n",
       "lived         574\n",
       "died          410\n",
       "euthanized    251\n",
       "Name: count, dtype: int64"
      ]
     },
     "execution_count": 4,
     "metadata": {},
     "output_type": "execute_result"
    }
   ],
   "source": [
    "df['outcome'].value_counts()"
   ]
  },
  {
   "cell_type": "code",
   "execution_count": 5,
   "id": "6e6e56e5-d6fb-4609-8e6c-a36f56251c55",
   "metadata": {},
   "outputs": [
    {
     "name": "stdout",
     "output_type": "stream",
     "text": [
      "<class 'pandas.core.frame.DataFrame'>\n",
      "RangeIndex: 1235 entries, 0 to 1234\n",
      "Data columns (total 29 columns):\n",
      " #   Column                 Non-Null Count  Dtype  \n",
      "---  ------                 --------------  -----  \n",
      " 0   id                     1235 non-null   int64  \n",
      " 1   surgery                1235 non-null   object \n",
      " 2   age                    1235 non-null   object \n",
      " 3   hospital_number        1235 non-null   int64  \n",
      " 4   rectal_temp            1235 non-null   float64\n",
      " 5   pulse                  1235 non-null   float64\n",
      " 6   respiratory_rate       1235 non-null   float64\n",
      " 7   temp_of_extremities    1196 non-null   object \n",
      " 8   peripheral_pulse       1175 non-null   object \n",
      " 9   mucous_membrane        1214 non-null   object \n",
      " 10  capillary_refill_time  1229 non-null   object \n",
      " 11  pain                   1191 non-null   object \n",
      " 12  peristalsis            1215 non-null   object \n",
      " 13  abdominal_distention   1212 non-null   object \n",
      " 14  nasogastric_tube       1155 non-null   object \n",
      " 15  nasogastric_reflux     1214 non-null   object \n",
      " 16  nasogastric_reflux_ph  1235 non-null   float64\n",
      " 17  rectal_exam_feces      1045 non-null   object \n",
      " 18  abdomen                1022 non-null   object \n",
      " 19  packed_cell_volume     1235 non-null   float64\n",
      " 20  total_protein          1235 non-null   float64\n",
      " 21  abdomo_appearance      1187 non-null   object \n",
      " 22  abdomo_protein         1235 non-null   float64\n",
      " 23  surgical_lesion        1235 non-null   object \n",
      " 24  lesion_1               1235 non-null   int64  \n",
      " 25  lesion_2               1235 non-null   int64  \n",
      " 26  lesion_3               1235 non-null   int64  \n",
      " 27  cp_data                1235 non-null   object \n",
      " 28  outcome                1235 non-null   object \n",
      "dtypes: float64(7), int64(5), object(17)\n",
      "memory usage: 279.9+ KB\n"
     ]
    }
   ],
   "source": [
    "df.info()"
   ]
  },
  {
   "cell_type": "code",
   "execution_count": 6,
   "id": "fe899c56-9796-495a-b13c-a54e4917b835",
   "metadata": {},
   "outputs": [
    {
     "data": {
      "text/plain": [
       "id                       False\n",
       "surgery                  False\n",
       "age                      False\n",
       "hospital_number          False\n",
       "rectal_temp              False\n",
       "pulse                    False\n",
       "respiratory_rate         False\n",
       "temp_of_extremities       True\n",
       "peripheral_pulse          True\n",
       "mucous_membrane           True\n",
       "capillary_refill_time     True\n",
       "pain                      True\n",
       "peristalsis               True\n",
       "abdominal_distention      True\n",
       "nasogastric_tube          True\n",
       "nasogastric_reflux        True\n",
       "nasogastric_reflux_ph    False\n",
       "rectal_exam_feces         True\n",
       "abdomen                   True\n",
       "packed_cell_volume       False\n",
       "total_protein            False\n",
       "abdomo_appearance         True\n",
       "abdomo_protein           False\n",
       "surgical_lesion          False\n",
       "lesion_1                 False\n",
       "lesion_2                 False\n",
       "lesion_3                 False\n",
       "cp_data                  False\n",
       "outcome                  False\n",
       "dtype: bool"
      ]
     },
     "execution_count": 6,
     "metadata": {},
     "output_type": "execute_result"
    }
   ],
   "source": [
    "df.isna().sum() > 0\n"
   ]
  },
  {
   "cell_type": "code",
   "execution_count": 7,
   "id": "2478a0d8-0a9f-43c6-b670-1b5c3d900588",
   "metadata": {},
   "outputs": [
    {
     "name": "stdout",
     "output_type": "stream",
     "text": [
      "temp_of_extremities\n",
      "cool      700\n",
      "normal    324\n",
      "cold      121\n",
      "warm       51\n",
      "Name: count, dtype: int64\n",
      "Null values 39\n",
      "*************\n",
      "\n",
      "peripheral_pulse\n",
      "reduced      724\n",
      "normal       429\n",
      "absent        18\n",
      "increased      4\n",
      "Name: count, dtype: int64\n",
      "Null values 60\n",
      "*************\n",
      "\n",
      "mucous_membrane\n",
      "pale_pink        284\n",
      "normal_pink      260\n",
      "pale_cyanotic    250\n",
      "bright_red       211\n",
      "dark_cyanotic    121\n",
      "bright_pink       88\n",
      "Name: count, dtype: int64\n",
      "Null values 21\n",
      "*************\n",
      "\n",
      "capillary_refill_time\n",
      "less_3_sec    834\n",
      "more_3_sec    393\n",
      "3               2\n",
      "Name: count, dtype: int64\n",
      "Null values 6\n",
      "*************\n",
      "\n",
      "pain\n",
      "depressed       429\n",
      "mild_pain       408\n",
      "severe_pain     146\n",
      "extreme_pain    120\n",
      "alert            87\n",
      "slight            1\n",
      "Name: count, dtype: int64\n",
      "Null values 44\n",
      "*************\n",
      "\n",
      "peristalsis\n",
      "hypomotile       664\n",
      "absent           444\n",
      "normal            53\n",
      "hypermotile       53\n",
      "distend_small      1\n",
      "Name: count, dtype: int64\n",
      "Null values 20\n",
      "*************\n",
      "\n",
      "abdominal_distention\n",
      "moderate    543\n",
      "slight      346\n",
      "none        212\n",
      "severe      111\n",
      "Name: count, dtype: int64\n",
      "Null values 23\n",
      "*************\n",
      "\n",
      "nasogastric_tube\n",
      "slight         758\n",
      "none           275\n",
      "significant    122\n",
      "Name: count, dtype: int64\n",
      "Null values 80\n",
      "*************\n",
      "\n",
      "nasogastric_reflux\n",
      "more_1_liter    604\n",
      "none            331\n",
      "less_1_liter    278\n",
      "slight            1\n",
      "Name: count, dtype: int64\n",
      "Null values 21\n",
      "*************\n",
      "\n",
      "rectal_exam_feces\n",
      "absent           493\n",
      "decreased        269\n",
      "normal           233\n",
      "increased         49\n",
      "serosanguious      1\n",
      "Name: count, dtype: int64\n",
      "Null values 190\n",
      "*************\n",
      "\n",
      "abdomen\n",
      "distend_small    482\n",
      "distend_large    359\n",
      "normal            76\n",
      "firm              72\n",
      "other             33\n",
      "Name: count, dtype: int64\n",
      "Null values 213\n",
      "*************\n",
      "\n",
      "abdomo_appearance\n",
      "serosanguious    570\n",
      "cloudy           359\n",
      "clear            258\n",
      "Name: count, dtype: int64\n",
      "Null values 48\n",
      "*************\n",
      "\n"
     ]
    }
   ],
   "source": [
    "columns_with_missing_values = df.columns[df.isna().sum() > 0]\n",
    "for col in columns_with_missing_values:\n",
    "    print(df[col].value_counts())\n",
    "    print(\"Null values\",df[col].isna().sum())\n",
    "    print(\"*************\\n\")"
   ]
  },
  {
   "cell_type": "code",
   "execution_count": 98,
   "id": "859b1619-8a59-41c0-86f4-18836f7a20c9",
   "metadata": {},
   "outputs": [
    {
     "data": {
      "text/plain": [
       "<Axes: xlabel='abdomen', ylabel='count'>"
      ]
     },
     "execution_count": 98,
     "metadata": {},
     "output_type": "execute_result"
    },
    {
     "data": {
      "image/png": "[encoded data removed]",
      "text/plain": [
       "<Figure size 640x480 with 1 Axes>"
      ]
     },
     "metadata": {},
     "output_type": "display_data"
    }
   ],
   "source": [
    "sns.barplot(x= a.index,y=df['abdomen'].value_counts(dropna=False))\n"
   ]
  },
  {
   "cell_type": "code",
   "execution_count": 96,
   "id": "a012961a-5cfc-4568-a415-6caee97407d0",
   "metadata": {},
   "outputs": [
    {
     "data": {
      "text/plain": [
       "Index(['distend_small', 'distend_large', nan, 'normal', 'firm', 'other'], dtype='object', name='abdomen')"
      ]
     },
     "execution_count": 96,
     "metadata": {},
     "output_type": "execute_result"
    }
   ],
   "source": [
    "a=df['abdomen'].value_counts(dropna=False)\n",
    "a.index"
   ]
  },
  {
   "cell_type": "code",
   "execution_count": 8,
   "id": "6bc212cd-3576-49ac-9c40-9c6f1d6e2c5a",
   "metadata": {},
   "outputs": [
    {
     "data": {
      "image/png": "[encoded data removed]",
      "text/plain": [
       "<Figure size 1200x800 with 12 Axes>"
      ]
     },
     "metadata": {},
     "output_type": "display_data"
    }
   ],
   "source": [
    "df.hist(bins=50, figsize=(12,8))\n",
    "plt.show()"
   ]
  },
  {
   "cell_type": "code",
   "execution_count": null,
   "id": "c909457b-e7e9-41fb-9168-26bf187200b6",
   "metadata": {},
   "outputs": [],
   "source": []
  }
 ],
 "metadata": {
  "kernelspec": {
   "display_name": "Python 3 (ipykernel)",
   "language": "python",
   "name": "python3"
  },
  "language_info": {
   "codemirror_mode": {
    "name": "ipython",
    "version": 3
   },
   "file_extension": ".py",
   "mimetype": "text/x-python",
   "name": "python",
   "nbconvert_exporter": "python",
   "pygments_lexer": "ipython3",
   "version": "3.11.4"
  }
 },
 "nbformat": 4,
 "nbformat_minor": 5
}
